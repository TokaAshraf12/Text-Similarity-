{
  "nbformat": 4,
  "nbformat_minor": 0,
  "metadata": {
    "colab": {
      "provenance": []
    },
    "kernelspec": {
      "name": "python3",
      "display_name": "Python 3"
    },
    "language_info": {
      "name": "python"
    }
  },
  "cells": [
    {
      "cell_type": "code",
      "source": [
        "import nltk\n",
        "import networkx as nx\n",
        "from nltk.tokenize import sent_tokenize\n",
        "from sklearn.feature_extraction.text import TfidfVectorizer\n",
        "from sklearn.metrics.pairwise import cosine_similarity\n",
        "import matplotlib.pyplot as plt\n",
        "\n",
        "# Download the NLTK stopwords and punkt tokenizer if not already downloaded\n",
        "nltk.download('stopwords')\n",
        "nltk.download('punkt')"
      ],
      "metadata": {
        "colab": {
          "base_uri": "https://localhost:8080/"
        },
        "id": "vrk8Nh_yK1um",
        "outputId": "5f65dd0c-c983-4039-cd56-5a3c51c85a3b"
      },
      "execution_count": 32,
      "outputs": [
        {
          "output_type": "stream",
          "name": "stderr",
          "text": [
            "[nltk_data] Downloading package stopwords to /root/nltk_data...\n",
            "[nltk_data]   Package stopwords is already up-to-date!\n",
            "[nltk_data] Downloading package punkt to /root/nltk_data...\n",
            "[nltk_data]   Package punkt is already up-to-date!\n"
          ]
        },
        {
          "output_type": "execute_result",
          "data": {
            "text/plain": [
              "True"
            ]
          },
          "metadata": {},
          "execution_count": 32
        }
      ]
    },
    {
      "cell_type": "code",
      "source": [
        "print(\"Enter text as a sentence and separate each sentence from another with a dot:  \")\n",
        "input_text=input()\n",
        "print(\"Enter the threshold: \")\n",
        "similarity_threshold=float(input())\n",
        "\n"
      ],
      "metadata": {
        "colab": {
          "base_uri": "https://localhost:8080/"
        },
        "id": "_i2BzkIgS8dB",
        "outputId": "43c4d735-4d4b-4463-c928-e187f0d7fbea"
      },
      "execution_count": 45,
      "outputs": [
        {
          "name": "stdout",
          "output_type": "stream",
          "text": [
            "Enter text as a sentence and separate each sentence from another with a dot:  \n",
            "this is the first text. and this is the second text.       the second text is longer than the first.       the first text is a small text.\n",
            "Enter the threshold: \n",
            "0.4\n"
          ]
        }
      ]
    },
    {
      "cell_type": "code",
      "source": [
        "# input_text = \"\"\"\n",
        "#       this is the first text. and this is the second text.\n",
        "#       the second text is longer than the first.\n",
        "#       the first text is a small text.\n",
        "# \"\"\"\n",
        "\n",
        "# Split the text into sentences\n",
        "sentences = sent_tokenize(input_text)\n",
        "print(sentences)\n",
        "\n",
        "# Create a graph\n",
        "G = nx.Graph()\n",
        "\n",
        "# Calculate TF-IDF vectors for the sentences\n",
        "tfidf_vectorizer = TfidfVectorizer(stop_words='english')\n",
        "tfidf_matrix = tfidf_vectorizer.fit_transform(sentences)\n",
        "\n",
        "# Calculate cosine similarity between sentence vectors\n",
        "similarity_matrix = cosine_similarity(tfidf_matrix)\n",
        "\n",
        "\n",
        "# Add nodes and edges to the graph based on similarity threshold\n",
        "for i in range(len(sentences)):\n",
        "    G.add_node(i, sentence=sentences[i])\n",
        "    for j in range(i + 1, len(sentences)):\n",
        "        print(f\"similarity between node {sentences[i]} and node {sentences[j]} = {similarity_matrix[i][j]}\\n\")\n",
        "        if similarity_matrix[i][j] > similarity_threshold:\n",
        "            G.add_edge(i, j, weight=similarity_matrix[i][j])\n",
        "\n",
        "print(\"Nodes:\", G.number_of_nodes())\n",
        "print(\"Edges:\", G.number_of_edges())"
      ],
      "metadata": {
        "colab": {
          "base_uri": "https://localhost:8080/"
        },
        "id": "k9S8vDATLQSi",
        "outputId": "cfbbe6a4-f56f-4785-f9e8-ec0fa5d0770a"
      },
      "execution_count": 46,
      "outputs": [
        {
          "output_type": "stream",
          "name": "stdout",
          "text": [
            "['this is the first text.', 'and this is the second text.', 'the second text is longer than the first.', 'the first text is a small text.']\n",
            "similarity between node this is the first text. and node and this is the second text. = 0.551939416352363\n",
            "\n",
            "similarity between node this is the first text. and node the second text is longer than the first. = 0.3791916749655464\n",
            "\n",
            "similarity between node this is the first text. and node the first text is a small text. = 0.7220560017292983\n",
            "\n",
            "similarity between node and this is the second text. and node the second text is longer than the first. = 0.6870168423040602\n",
            "\n",
            "similarity between node and this is the second text. and node the first text is a small text. = 0.3985311681681897\n",
            "\n",
            "similarity between node the second text is longer than the first. and node the first text is a small text. = 0.27379762471465807\n",
            "\n",
            "Nodes: 4\n",
            "Edges: 3\n"
          ]
        }
      ]
    },
    {
      "cell_type": "code",
      "source": [
        "# Draw the graph\n",
        "pos = nx.spring_layout(G)  # Positioning algorithm (you can choose other algorithms)\n",
        "labels = {i: G.nodes[i]['sentence'] for i in G.nodes}\n",
        "nx.draw(G, pos, labels=labels, with_labels=True, node_size=1000, font_size=6)\n",
        "\n",
        "# Show the graph visualization\n",
        "plt.show()"
      ],
      "metadata": {
        "colab": {
          "base_uri": "https://localhost:8080/",
          "height": 516
        },
        "id": "UayEB7uNLK8e",
        "outputId": "a394caac-f58a-423b-9dda-f0b41e9d0d58"
      },
      "execution_count": 47,
      "outputs": [
        {
          "output_type": "display_data",
          "data": {
            "text/plain": [
              "<Figure size 640x480 with 1 Axes>"
            ],
            "image/png": "[encoded data removed]"
          },
          "metadata": {}
        }
      ]
    }
  ]
}